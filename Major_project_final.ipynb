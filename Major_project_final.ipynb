{
  "cells": [
    {
      "cell_type": "code",
      "execution_count": null,
      "metadata": {
        "colab": {
          "base_uri": "https://localhost:8080/"
        },
        "id": "PIyi-s0BOHns",
        "outputId": "d329d397-9464-4c11-82d4-75de97bb7cd5"
      },
      "outputs": [
        {
          "output_type": "stream",
          "name": "stdout",
          "text": [
            "Drive already mounted at /content/drive; to attempt to forcibly remount, call drive.mount(\"/content/drive\", force_remount=True).\n"
          ]
        }
      ],
      "source": [
        "#Mounting google drive\n",
        "from google.colab import drive\n",
        "drive.mount('/content/drive')"
      ]
    },
    {
      "cell_type": "code",
      "execution_count": null,
      "metadata": {
        "id": "sbL1nDvNOwQK"
      },
      "outputs": [],
      "source": [
        "#Importing libraries\n",
        "import pandas as pd\n",
        "import numpy as np\n",
        "import matplotlib.pyplot as plt\n",
        "import os\n",
        "import shutil\n",
        "import random\n",
        "from tqdm import tqdm\n",
        "from pathlib import Path\n",
        "import cv2 as cv\n",
        "import tensorflow as tf\n",
        "from tensorflow import keras\n",
        "from tensorflow.keras import layers\n",
        "from tensorflow.keras import layers, optimizers, losses, metrics, callbacks, initializers\n",
        "from tensorflow.keras import Sequential, Model, Input\n",
        "from sklearn.model_selection import train_test_split\n",
        "from sklearn.metrics import confusion_matrix, classification_report\n",
        "from tensorflow.keras.preprocessing.image import ImageDataGenerator\n",
        "\n"
      ]
    },
    {
      "cell_type": "markdown",
      "metadata": {
        "id": "N2YtXEakj3fL"
      },
      "source": [
        "*Loading Dataset*"
      ]
    },
    {
      "cell_type": "code",
      "execution_count": null,
      "metadata": {
        "id": "s2Ld638DkI1R"
      },
      "outputs": [],
      "source": [
        "#batch_size = 64 \n",
        "\n",
        "#img_height = 256\n",
        "#img_width =  256\n",
        "batch_size = 16 \n",
        "\n",
        "img_height = 224\n",
        "img_width =  224\n",
        "\n",
        "data_dir = '/content/drive/MyDrive/paddy disease/train_images'"
      ]
    },
    {
      "cell_type": "code",
      "execution_count": null,
      "metadata": {
        "id": "V-fDun3GkXZj"
      },
      "outputs": [],
      "source": [
        "img_datagen = tf.keras.preprocessing.image.ImageDataGenerator(\n",
        "                            rescale=1.0/255.0,\n",
        "                            validation_split=0.3,\n",
        "                            rotation_range=5,\n",
        "                            shear_range=0.3,\n",
        "                            zoom_range=0.4,\n",
        "                            width_shift_range=0.05,\n",
        "                            height_shift_range=0.05,\n",
        "                            horizontal_flip=True,\n",
        "                            vertical_flip=True\n",
        "                )"
      ]
    },
    {
      "cell_type": "code",
      "execution_count": null,
      "metadata": {
        "id": "ieHTraPWlKzQ"
      },
      "outputs": [],
      "source": [
        "train_data = '/content/drive/MyDrive/paddy disease/test_images'"
      ]
    },
    {
      "cell_type": "code",
      "execution_count": null,
      "metadata": {
        "colab": {
          "base_uri": "https://localhost:8080/"
        },
        "id": "glvZawqXkhXc",
        "outputId": "b46baa2b-d735-4010-b3d7-ef64e1d6eb8c"
      },
      "outputs": [
        {
          "output_type": "stream",
          "name": "stdout",
          "text": [
            "Found 7288 images belonging to 10 classes.\n"
          ]
        }
      ],
      "source": [
        "train_gen = img_datagen.flow_from_directory(\n",
        "                            data_dir,\n",
        "                            subset=\"training\",\n",
        "                            seed=42,\n",
        "                            target_size=(img_height, img_width),\n",
        "                            batch_size=batch_size,\n",
        "                            class_mode=\"categorical\",\n",
        "                            color_mode='rgb'\n",
        "            )"
      ]
    },
    {
      "cell_type": "code",
      "execution_count": null,
      "metadata": {
        "id": "S5UXjin-le-Z"
      },
      "outputs": [],
      "source": [
        "test_data = '/content/drive/MyDrive/data2/test_image'"
      ]
    },
    {
      "cell_type": "code",
      "execution_count": null,
      "metadata": {
        "colab": {
          "base_uri": "https://localhost:8080/"
        },
        "id": "cd1ymJ-_lri3",
        "outputId": "0f1db449-e934-4df8-b74d-574d0f5a80e0"
      },
      "outputs": [
        {
          "output_type": "stream",
          "name": "stdout",
          "text": [
            "Found 3119 images belonging to 10 classes.\n"
          ]
        }
      ],
      "source": [
        "test_gen = img_datagen.flow_from_directory(\n",
        "                            data_dir,\n",
        "                            subset=\"validation\",\n",
        "                            seed=42,\n",
        "                            target_size=(img_height, img_width),\n",
        "                            batch_size=batch_size,\n",
        "                            class_mode=\"categorical\"\n",
        "            )"
      ]
    },
    {
      "cell_type": "code",
      "execution_count": null,
      "metadata": {
        "colab": {
          "base_uri": "https://localhost:8080/"
        },
        "id": "2gEj0TBwl6TF",
        "outputId": "1d1fbd8e-23d8-467d-b363-936e9c4f8181"
      },
      "outputs": [
        {
          "output_type": "stream",
          "name": "stdout",
          "text": [
            "Total No Of Classes in the datasetL: 10\n",
            "Class Names: {'bacterial_leaf_blight': 0, 'bacterial_leaf_streak': 1, 'bacterial_panicle_blight': 2, 'blast': 3, 'brown_spot': 4, 'dead_heart': 5, 'downy_mildew': 6, 'hispa': 7, 'normal': 8, 'tungro': 9}\n"
          ]
        }
      ],
      "source": [
        "print('Total No Of Classes in the datasetL:',len(train_gen.class_indices))\n",
        "print('Class Names:',train_gen.class_indices)"
      ]
    },
    {
      "cell_type": "code",
      "execution_count": null,
      "metadata": {
        "id": "kB6LZPtNmCxe"
      },
      "outputs": [],
      "source": []
    },
    {
      "cell_type": "code",
      "execution_count": null,
      "metadata": {
        "id": "Kx8lFjF7mxYb"
      },
      "outputs": [],
      "source": [
        "#cnn model"
      ]
    },
    {
      "cell_type": "code",
      "execution_count": null,
      "metadata": {
        "id": "VHhPWHRzm3N7"
      },
      "outputs": [],
      "source": [
        "num_classes = 10\n",
        "input_shape = (1,224,224,3)"
      ]
    },
    {
      "cell_type": "code",
      "execution_count": null,
      "metadata": {
        "id": "Kq4LYnLOm61F"
      },
      "outputs": [],
      "source": [
        "model = keras.models.Sequential([\n",
        "    keras.layers.Conv2D(16, (3, 3), activation='relu', input_shape = [224, 224,3]),\n",
        "    keras.layers.MaxPooling2D(2,2),\n",
        "    keras.layers.Conv2D(32, (2, 2), activation='relu'),\n",
        "    keras.layers.MaxPooling2D(2,2),\n",
        "    keras.layers.Conv2D(64, (2, 2), activation='relu'),\n",
        "    keras.layers.MaxPooling2D(2,2),\n",
        "    keras.layers.Conv2D(128, (2, 2), activation='relu'),\n",
        "    keras.layers.MaxPooling2D(2,2),\n",
        "    keras.layers.Flatten(),\n",
        "    keras.layers.Dense(1024, activation='relu'),\n",
        "    keras.layers.Dense(128, activation='relu'),\n",
        "    keras.layers.Dense(10, activation='softmax')\n",
        "])"
      ]
    },
    {
      "cell_type": "code",
      "execution_count": null,
      "metadata": {
        "colab": {
          "base_uri": "https://localhost:8080/"
        },
        "id": "7KrAwZFUcncF",
        "outputId": "831ad446-74b5-4365-bff4-b560909489af"
      },
      "outputs": [
        {
          "output_type": "stream",
          "name": "stdout",
          "text": [
            "Model: \"sequential\"\n",
            "_________________________________________________________________\n",
            " Layer (type)                Output Shape              Param #   \n",
            "=================================================================\n",
            " conv2d (Conv2D)             (None, 222, 222, 16)      448       \n",
            "                                                                 \n",
            " max_pooling2d (MaxPooling2D  (None, 111, 111, 16)     0         \n",
            " )                                                               \n",
            "                                                                 \n",
            " conv2d_1 (Conv2D)           (None, 110, 110, 32)      2080      \n",
            "                                                                 \n",
            " max_pooling2d_1 (MaxPooling  (None, 55, 55, 32)       0         \n",
            " 2D)                                                             \n",
            "                                                                 \n",
            " conv2d_2 (Conv2D)           (None, 54, 54, 64)        8256      \n",
            "                                                                 \n",
            " max_pooling2d_2 (MaxPooling  (None, 27, 27, 64)       0         \n",
            " 2D)                                                             \n",
            "                                                                 \n",
            " conv2d_3 (Conv2D)           (None, 26, 26, 128)       32896     \n",
            "                                                                 \n",
            " max_pooling2d_3 (MaxPooling  (None, 13, 13, 128)      0         \n",
            " 2D)                                                             \n",
            "                                                                 \n",
            " flatten (Flatten)           (None, 21632)             0         \n",
            "                                                                 \n",
            " dense (Dense)               (None, 1024)              22152192  \n",
            "                                                                 \n",
            " dense_1 (Dense)             (None, 128)               131200    \n",
            "                                                                 \n",
            " dense_2 (Dense)             (None, 10)                1290      \n",
            "                                                                 \n",
            "=================================================================\n",
            "Total params: 22,328,362\n",
            "Trainable params: 22,328,362\n",
            "Non-trainable params: 0\n",
            "_________________________________________________________________\n"
          ]
        }
      ],
      "source": [
        "model.summary()"
      ]
    },
    {
      "cell_type": "code",
      "execution_count": null,
      "metadata": {
        "id": "sJFQ3vMZcoR6"
      },
      "outputs": [],
      "source": [
        "class TerminateNaN(tf.keras.callbacks.Callback):\n",
        "  def on_epoch_end(self, epoch, logs={}):\n",
        "    loss = logs.get('loss')\n",
        "    if loss is not None:\n",
        "      if np.isnan(loss) or np.isinf(loss):\n",
        "        print('Invalid loss and terminated at loss {}'.format(epoch))\n",
        "        self.model.stop_training = True\n",
        "\n",
        "terminate_nan = TerminateNaN()"
      ]
    },
    {
      "cell_type": "code",
      "execution_count": null,
      "metadata": {
        "id": "AkL9VfvNdWWu"
      },
      "outputs": [],
      "source": [
        "# save model after every epoch if the validation accuracy improves from previous epoch\n",
        "filepath = '/content/drive/MyDrive/keras_model_new.h5'\n",
        "\n",
        "checkpoint = tf.keras.callbacks.ModelCheckpoint(\n",
        "    filepath = filepath,\n",
        "    monitor=\"val_categorical_accuracy\",\n",
        "    verbose=1,\n",
        "    save_best_only=True,\n",
        "    mode = 'auto'\n",
        ")"
      ]
    },
    {
      "cell_type": "code",
      "execution_count": null,
      "metadata": {
        "id": "Fq7CR05Hc5hf"
      },
      "outputs": [],
      "source": [
        "# learning rate scheduler\n",
        "reduce_lr = tf.keras.callbacks.ReduceLROnPlateau(\n",
        "    monitor=\"val_categorical_accuracy\",\n",
        "    factor=0.1,\n",
        "    patience=1,\n",
        "    verbose=1,\n",
        "    mode=\"auto\",\n",
        "    min_delta=0.001,\n",
        "    cooldown=3,\n",
        "    min_lr=0\n",
        ")"
      ]
    },
    {
      "cell_type": "code",
      "execution_count": null,
      "metadata": {
        "id": "DPCDklNGhzAu"
      },
      "outputs": [],
      "source": []
    },
    {
      "cell_type": "code",
      "execution_count": null,
      "metadata": {
        "id": "Pv78jwF7c-K1"
      },
      "outputs": [],
      "source": [
        "model.compile(\n",
        "    optimizer=tf.keras.optimizers.Adam(learning_rate=3e-4),\n",
        "    loss=tf.keras.losses.CategoricalCrossentropy(),\n",
        "    metrics=[tf.keras.metrics.CategoricalAccuracy(name=\"categorical_accuracy\", dtype=None)]\n",
        ")"
      ]
    },
    {
      "cell_type": "code",
      "execution_count": null,
      "metadata": {
        "id": "OPUJk9bPhyAz"
      },
      "outputs": [],
      "source": []
    },
    {
      "cell_type": "code",
      "execution_count": null,
      "metadata": {
        "colab": {
          "base_uri": "https://localhost:8080/"
        },
        "id": "0t-ffbZbdALs",
        "outputId": "8352b5da-f12e-43d3-d6e5-3e2fed224a8e"
      },
      "outputs": [
        {
          "output_type": "stream",
          "name": "stdout",
          "text": [
            "Epoch 1/20\n",
            "456/456 [==============================] - ETA: 0s - loss: 1.9999 - categorical_accuracy: 0.2818\n",
            "Epoch 1: val_categorical_accuracy improved from -inf to 0.35717, saving model to /content/drive/MyDrive/keras_model_new.h5\n",
            "456/456 [==============================] - 3854s 8s/step - loss: 1.9999 - categorical_accuracy: 0.2818 - val_loss: 1.8293 - val_categorical_accuracy: 0.3572 - lr: 3.0000e-04\n",
            "Epoch 2/20\n",
            "456/456 [==============================] - ETA: 0s - loss: 1.7415 - categorical_accuracy: 0.3945\n",
            "Epoch 2: val_categorical_accuracy improved from 0.35717 to 0.41263, saving model to /content/drive/MyDrive/keras_model_new.h5\n",
            "456/456 [==============================] - 794s 2s/step - loss: 1.7415 - categorical_accuracy: 0.3945 - val_loss: 1.7167 - val_categorical_accuracy: 0.4126 - lr: 3.0000e-04\n",
            "Epoch 3/20\n",
            "456/456 [==============================] - ETA: 0s - loss: 1.5766 - categorical_accuracy: 0.4487\n",
            "Epoch 3: val_categorical_accuracy improved from 0.41263 to 0.45752, saving model to /content/drive/MyDrive/keras_model_new.h5\n",
            "456/456 [==============================] - 794s 2s/step - loss: 1.5766 - categorical_accuracy: 0.4487 - val_loss: 1.5254 - val_categorical_accuracy: 0.4575 - lr: 3.0000e-04\n",
            "Epoch 4/20\n",
            "456/456 [==============================] - ETA: 0s - loss: 1.4496 - categorical_accuracy: 0.5082\n",
            "Epoch 4: val_categorical_accuracy improved from 0.45752 to 0.50882, saving model to /content/drive/MyDrive/keras_model_new.h5\n",
            "456/456 [==============================] - 795s 2s/step - loss: 1.4496 - categorical_accuracy: 0.5082 - val_loss: 1.4451 - val_categorical_accuracy: 0.5088 - lr: 3.0000e-04\n",
            "Epoch 5/20\n",
            "456/456 [==============================] - ETA: 0s - loss: 1.3103 - categorical_accuracy: 0.5595\n",
            "Epoch 5: val_categorical_accuracy improved from 0.50882 to 0.58609, saving model to /content/drive/MyDrive/keras_model_new.h5\n",
            "456/456 [==============================] - 808s 2s/step - loss: 1.3103 - categorical_accuracy: 0.5595 - val_loss: 1.2413 - val_categorical_accuracy: 0.5861 - lr: 3.0000e-04\n",
            "Epoch 6/20\n",
            "456/456 [==============================] - ETA: 0s - loss: 1.1999 - categorical_accuracy: 0.6007\n",
            "Epoch 6: val_categorical_accuracy improved from 0.58609 to 0.58993, saving model to /content/drive/MyDrive/keras_model_new.h5\n",
            "456/456 [==============================] - 796s 2s/step - loss: 1.1999 - categorical_accuracy: 0.6007 - val_loss: 1.2497 - val_categorical_accuracy: 0.5899 - lr: 3.0000e-04\n",
            "Epoch 7/20\n",
            "456/456 [==============================] - ETA: 0s - loss: 1.0768 - categorical_accuracy: 0.6341\n",
            "Epoch 7: val_categorical_accuracy improved from 0.58993 to 0.64764, saving model to /content/drive/MyDrive/keras_model_new.h5\n",
            "456/456 [==============================] - 801s 2s/step - loss: 1.0768 - categorical_accuracy: 0.6341 - val_loss: 1.0536 - val_categorical_accuracy: 0.6476 - lr: 3.0000e-04\n",
            "Epoch 8/20\n",
            "456/456 [==============================] - ETA: 0s - loss: 0.9481 - categorical_accuracy: 0.6802\n",
            "Epoch 8: val_categorical_accuracy improved from 0.64764 to 0.69638, saving model to /content/drive/MyDrive/keras_model_new.h5\n",
            "456/456 [==============================] - 814s 2s/step - loss: 0.9481 - categorical_accuracy: 0.6802 - val_loss: 0.9443 - val_categorical_accuracy: 0.6964 - lr: 3.0000e-04\n",
            "Epoch 9/20\n",
            "456/456 [==============================] - ETA: 0s - loss: 0.8668 - categorical_accuracy: 0.7125\n",
            "Epoch 9: val_categorical_accuracy improved from 0.69638 to 0.70343, saving model to /content/drive/MyDrive/keras_model_new.h5\n",
            "456/456 [==============================] - 790s 2s/step - loss: 0.8668 - categorical_accuracy: 0.7125 - val_loss: 0.9033 - val_categorical_accuracy: 0.7034 - lr: 3.0000e-04\n",
            "Epoch 10/20\n",
            "456/456 [==============================] - ETA: 0s - loss: 0.7824 - categorical_accuracy: 0.7393\n",
            "Epoch 10: val_categorical_accuracy improved from 0.70343 to 0.71593, saving model to /content/drive/MyDrive/keras_model_new.h5\n",
            "456/456 [==============================] - 796s 2s/step - loss: 0.7824 - categorical_accuracy: 0.7393 - val_loss: 0.8828 - val_categorical_accuracy: 0.7159 - lr: 3.0000e-04\n",
            "Epoch 11/20\n",
            "456/456 [==============================] - ETA: 0s - loss: 0.7000 - categorical_accuracy: 0.7644\n",
            "Epoch 11: val_categorical_accuracy improved from 0.71593 to 0.74607, saving model to /content/drive/MyDrive/keras_model_new.h5\n",
            "456/456 [==============================] - 798s 2s/step - loss: 0.7000 - categorical_accuracy: 0.7644 - val_loss: 0.8118 - val_categorical_accuracy: 0.7461 - lr: 3.0000e-04\n",
            "Epoch 12/20\n",
            "456/456 [==============================] - ETA: 0s - loss: 0.6517 - categorical_accuracy: 0.7846\n",
            "Epoch 12: val_categorical_accuracy improved from 0.74607 to 0.77236, saving model to /content/drive/MyDrive/keras_model_new.h5\n",
            "456/456 [==============================] - 819s 2s/step - loss: 0.6517 - categorical_accuracy: 0.7846 - val_loss: 0.7393 - val_categorical_accuracy: 0.7724 - lr: 3.0000e-04\n",
            "Epoch 13/20\n",
            "456/456 [==============================] - ETA: 0s - loss: 0.6152 - categorical_accuracy: 0.7979\n",
            "Epoch 13: val_categorical_accuracy did not improve from 0.77236\n",
            "\n",
            "Epoch 13: ReduceLROnPlateau reducing learning rate to 3.000000142492354e-05.\n",
            "456/456 [==============================] - 781s 2s/step - loss: 0.6152 - categorical_accuracy: 0.7979 - val_loss: 0.8526 - val_categorical_accuracy: 0.7220 - lr: 3.0000e-04\n",
            "Epoch 14/20\n",
            "456/456 [==============================] - ETA: 0s - loss: 0.4380 - categorical_accuracy: 0.8602\n",
            "Epoch 14: val_categorical_accuracy improved from 0.77236 to 0.82110, saving model to /content/drive/MyDrive/keras_model_new.h5\n",
            "456/456 [==============================] - 794s 2s/step - loss: 0.4380 - categorical_accuracy: 0.8602 - val_loss: 0.5827 - val_categorical_accuracy: 0.8211 - lr: 3.0000e-05\n",
            "Epoch 15/20\n",
            "456/456 [==============================] - ETA: 0s - loss: 0.4100 - categorical_accuracy: 0.8680\n",
            "Epoch 15: val_categorical_accuracy improved from 0.82110 to 0.82462, saving model to /content/drive/MyDrive/keras_model_new.h5\n",
            "456/456 [==============================] - 803s 2s/step - loss: 0.4100 - categorical_accuracy: 0.8680 - val_loss: 0.5797 - val_categorical_accuracy: 0.8246 - lr: 3.0000e-05\n",
            "Epoch 16/20\n",
            "456/456 [==============================] - ETA: 0s - loss: 0.3879 - categorical_accuracy: 0.8762\n",
            "Epoch 16: val_categorical_accuracy did not improve from 0.82462\n",
            "\n",
            "Epoch 16: ReduceLROnPlateau reducing learning rate to 3.000000106112566e-06.\n",
            "456/456 [==============================] - 784s 2s/step - loss: 0.3879 - categorical_accuracy: 0.8762 - val_loss: 0.5664 - val_categorical_accuracy: 0.8214 - lr: 3.0000e-05\n",
            "Epoch 17/20\n",
            "456/456 [==============================] - ETA: 0s - loss: 0.3877 - categorical_accuracy: 0.8793\n",
            "Epoch 17: val_categorical_accuracy improved from 0.82462 to 0.82623, saving model to /content/drive/MyDrive/keras_model_new.h5\n",
            "456/456 [==============================] - 766s 2s/step - loss: 0.3877 - categorical_accuracy: 0.8793 - val_loss: 0.5746 - val_categorical_accuracy: 0.8262 - lr: 3.0000e-06\n",
            "Epoch 18/20\n",
            "456/456 [==============================] - ETA: 0s - loss: 0.3684 - categorical_accuracy: 0.8838\n",
            "Epoch 18: val_categorical_accuracy improved from 0.82623 to 0.83232, saving model to /content/drive/MyDrive/keras_model_new.h5\n",
            "456/456 [==============================] - 795s 2s/step - loss: 0.3684 - categorical_accuracy: 0.8838 - val_loss: 0.5558 - val_categorical_accuracy: 0.8323 - lr: 3.0000e-06\n",
            "Epoch 19/20\n",
            "456/456 [==============================] - ETA: 0s - loss: 0.3711 - categorical_accuracy: 0.8808\n",
            "Epoch 19: val_categorical_accuracy did not improve from 0.83232\n",
            "\n",
            "Epoch 19: ReduceLROnPlateau reducing learning rate to 3.000000106112566e-07.\n",
            "456/456 [==============================] - 786s 2s/step - loss: 0.3711 - categorical_accuracy: 0.8808 - val_loss: 0.5650 - val_categorical_accuracy: 0.8317 - lr: 3.0000e-06\n",
            "Epoch 20/20\n",
            "456/456 [==============================] - ETA: 0s - loss: 0.3634 - categorical_accuracy: 0.8795\n",
            "Epoch 20: val_categorical_accuracy did not improve from 0.83232\n",
            "456/456 [==============================] - 748s 2s/step - loss: 0.3634 - categorical_accuracy: 0.8795 - val_loss: 0.5702 - val_categorical_accuracy: 0.8294 - lr: 3.0000e-07\n"
          ]
        }
      ],
      "source": [
        "history = model.fit(\n",
        "    train_gen,\n",
        "    batch_size = batch_size,\n",
        "    validation_data = test_gen,\n",
        "    epochs=20,\n",
        "    verbose=1,\n",
        "    callbacks=[terminate_nan, checkpoint, reduce_lr]\n",
        ")"
      ]
    },
    {
      "cell_type": "code",
      "execution_count": null,
      "metadata": {
        "colab": {
          "base_uri": "https://localhost:8080/",
          "height": 295
        },
        "id": "roFXhfwwEvyB",
        "outputId": "3ab1cd2a-5d21-4599-ce84-63f2c11ce6a5"
      },
      "outputs": [
        {
          "output_type": "display_data",
          "data": {
            "text/plain": [
              "<Figure size 432x288 with 1 Axes>"
            ],
            "image/png": "[encoded data removed]"
          },
          "metadata": {
            "needs_background": "light"
          }
        }
      ],
      "source": [
        "history = history\n",
        "loss = history.history['loss']\n",
        "val_loss = history.history['val_loss']\n",
        "epochs = range(1, len(loss) + 1)\n",
        "plt.plot(epochs, loss, 'y', label='Training loss')\n",
        "plt.plot(epochs, val_loss, 'r', label='Validation loss')\n",
        "plt.title('Training and validation loss')\n",
        "plt.xlabel('Epochs')\n",
        "plt.ylabel('Loss')\n",
        "plt.legend()\n",
        "plt.show()"
      ]
    },
    {
      "cell_type": "code",
      "execution_count": null,
      "metadata": {
        "colab": {
          "base_uri": "https://localhost:8080/",
          "height": 295
        },
        "id": "BpKBIvl3E4bc",
        "outputId": "0deeeeb0-091d-4cc7-d91c-2a3ff591c91b"
      },
      "outputs": [
        {
          "output_type": "display_data",
          "data": {
            "text/plain": [
              "<Figure size 432x288 with 1 Axes>"
            ],
            "image/png": "[encoded data removed]"
          },
          "metadata": {
            "needs_background": "light"
          }
        }
      ],
      "source": [
        "acc = history.history['categorical_accuracy']\n",
        "val_acc = history.history['val_categorical_accuracy']\n",
        "\n",
        "plt.plot(epochs, acc, 'y', label='Training accuracy')\n",
        "plt.plot(epochs, val_acc, 'r', label='Validation accuracy')\n",
        "plt.title('Training and validation accuracy')\n",
        "plt.xlabel('Epochs')\n",
        "plt.ylabel('accuracy')\n",
        "plt.legend()\n",
        "plt.show()\n"
      ]
    },
    {
      "cell_type": "code",
      "execution_count": null,
      "metadata": {
        "colab": {
          "base_uri": "https://localhost:8080/"
        },
        "id": "l0yKRinNE_hM",
        "outputId": "686fe3f3-56c6-4ddb-a7bd-f2586114086a"
      },
      "outputs": [
        {
          "output_type": "stream",
          "name": "stdout",
          "text": [
            "195/195 [==============================] - 123s 627ms/step - loss: 0.5673 - categorical_accuracy: 0.8285\n"
          ]
        }
      ],
      "source": [
        "loss, accuracy = model.evaluate(test_gen)"
      ]
    },
    {
      "cell_type": "code",
      "execution_count": null,
      "metadata": {
        "colab": {
          "base_uri": "https://localhost:8080/"
        },
        "id": "xgHYJSSCGT-V",
        "outputId": "8a569656-9e32-4197-898d-9ae33d201722"
      },
      "outputs": [
        {
          "output_type": "stream",
          "name": "stdout",
          "text": [
            "Validation Accuracy 0.8284706473350525\n"
          ]
        }
      ],
      "source": [
        "print('Validation Accuracy', accuracy)"
      ]
    },
    {
      "cell_type": "code",
      "source": [
        "predictions = model.predict(test_gen)\n",
        "predicted_labels = np.argmax(predictions, axis=1)\n",
        "true_labels = test_gen.classes\n",
        "class_names = list(test_gen.class_indices.keys())"
      ],
      "metadata": {
        "colab": {
          "base_uri": "https://localhost:8080/"
        },
        "id": "XX0R1sqA4WdW",
        "outputId": "01605a97-65a0-44a9-fc10-ab5e46520f8e"
      },
      "execution_count": null,
      "outputs": [
        {
          "output_type": "stream",
          "name": "stdout",
          "text": [
            "195/195 [==============================] - 114s 580ms/step\n"
          ]
        }
      ]
    },
    {
      "cell_type": "code",
      "source": [
        "cm = confusion_matrix(true_labels, predicted_labels)\n",
        "print(cm)"
      ],
      "metadata": {
        "id": "4uvNYYqy4XVx",
        "colab": {
          "base_uri": "https://localhost:8080/"
        },
        "outputId": "68530ff4-f9df-4d9b-91e1-fc29a39736c2"
      },
      "execution_count": null,
      "outputs": [
        {
          "output_type": "stream",
          "name": "stdout",
          "text": [
            "[[  6   3   9  28  13  21   9  17  27  10]\n",
            " [  6   5   4  20  12  13   5  19  22   8]\n",
            " [  2   5   4  16   6  12   2  18  25  11]\n",
            " [ 22  16  20  81  41  82  23  73 106  57]\n",
            " [ 11  11   7  61  27  36  18  36  48  34]\n",
            " [ 12  20  12  73  41  65  20  66  78  45]\n",
            " [  5   5   5  54  17  23   4  31  25  17]\n",
            " [ 16  13  14  77  47  65  27  96  76  47]\n",
            " [ 27  23  15  80  47  60  31  86 103  57]\n",
            " [ 14  12  13  59  37  44  17  45  54  31]]\n"
          ]
        }
      ]
    },
    {
      "cell_type": "code",
      "source": [
        "import seaborn as sns\n",
        "fig, ax = plt.subplots(figsize=(10, 8))\n",
        "ax = sns.heatmap(cm, annot=True, cmap='Blues', fmt='g', xticklabels=class_names, yticklabels=class_names, ax=ax)\n",
        "ax.set_xlabel('Predicted Label')\n",
        "ax.set_ylabel('True Label')\n",
        "plt.show()"
      ],
      "metadata": {
        "id": "OzQkVHWk4aRL",
        "colab": {
          "base_uri": "https://localhost:8080/",
          "height": 605
        },
        "outputId": "ff6edf92-90d4-4dba-8838-ea8f0b3b53a3"
      },
      "execution_count": null,
      "outputs": [
        {
          "output_type": "display_data",
          "data": {
            "text/plain": [
              "<Figure size 720x576 with 2 Axes>"
            ],
            "image/png": "[encoded data removed]"
          },
          "metadata": {
            "needs_background": "light"
          }
        }
      ]
    },
    {
      "cell_type": "code",
      "source": [
        "from sklearn.metrics import classification_report\n",
        "cr = classification_report(true_labels, predicted_labels)\n",
        "print('\\nClassification Report:\\n', cr)"
      ],
      "metadata": {
        "colab": {
          "base_uri": "https://localhost:8080/"
        },
        "id": "cUEfv-RPzIln",
        "outputId": "4d3c2ab1-2b5b-4af1-dfd8-6ea825818769"
      },
      "execution_count": null,
      "outputs": [
        {
          "output_type": "stream",
          "name": "stdout",
          "text": [
            "\n",
            "Classification Report:\n",
            "               precision    recall  f1-score   support\n",
            "\n",
            "           0       0.05      0.04      0.05       143\n",
            "           1       0.04      0.04      0.04       114\n",
            "           2       0.04      0.04      0.04       101\n",
            "           3       0.15      0.16      0.15       521\n",
            "           4       0.09      0.09      0.09       289\n",
            "           5       0.15      0.15      0.15       432\n",
            "           6       0.03      0.02      0.02       186\n",
            "           7       0.20      0.20      0.20       478\n",
            "           8       0.18      0.19      0.19       529\n",
            "           9       0.10      0.10      0.10       326\n",
            "\n",
            "    accuracy                           0.14      3119\n",
            "   macro avg       0.10      0.10      0.10      3119\n",
            "weighted avg       0.13      0.14      0.13      3119\n",
            "\n"
          ]
        }
      ]
    }
  ],
  "metadata": {
    "colab": {
      "provenance": []
    },
    "kernelspec": {
      "display_name": "Python 3",
      "name": "python3"
    },
    "language_info": {
      "name": "python"
    }
  },
  "nbformat": 4,
  "nbformat_minor": 0
}